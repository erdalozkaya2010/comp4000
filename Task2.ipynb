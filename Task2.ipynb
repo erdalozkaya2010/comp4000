{
  "nbformat": 4,
  "nbformat_minor": 0,
  "metadata": {
    "colab": {
      "provenance": []
    },
    "kernelspec": {
      "name": "python3",
      "display_name": "Python 3"
    },
    "language_info": {
      "name": "python"
    }
  },
  "cells": [
    {
      "cell_type": "code",
      "execution_count": 1,
      "metadata": {
        "id": "mLwKxlD_zhBy"
      },
      "outputs": [],
      "source": [
        "# Python script to scrape an article given the url of the article and store the extracted text in a file\n",
        "# Url: https://medium.com/@subashgandyer/papa-what-is-a-neural-network-c5e5cc427c7\n",
        "\n",
        "import os\n",
        "import sys\n",
        "\n",
        "import requests\n",
        "import re\n",
        "# Code here - Import BeautifulSoup library\n",
        "from bs4 import BeautifulSoup\n",
        "\n",
        "\n",
        "# Code ends here\n"
      ]
    },
    {
      "cell_type": "code",
      "source": [
        "# function to get the html source text of the medium article\n",
        "def get_page():\n",
        "    global url\n",
        "\n",
        "    # Code here - Ask the user to input \"Enter url of a medium article: \" and collect it in url\n",
        "    url = input(\"Enter url of a medium article: \")\n",
        "    # Code ends here\n",
        "\n",
        "    # handling possible error\n",
        "    if not re.match(r'https?://medium.com/', url):\n",
        "        print('Please enter a valid website, or make sure it is a medium article')\n",
        "        sys.exit(1)\n",
        "\n",
        "    # Code here - Call get method in requests object, pass url and collect it in res\n",
        "\n",
        "    res = requests.get(url)\n",
        "\n",
        "    # Code ends here\n",
        "\n",
        "    res.raise_for_status()\n",
        "    soup = BeautifulSoup(res.text, 'html.parser')\n",
        "    return soup\n"
      ],
      "metadata": {
        "id": "ejZ9jde1zzgJ"
      },
      "execution_count": 2,
      "outputs": []
    },
    {
      "cell_type": "code",
      "source": [
        "# function to remove all the html tags and replace some with specific strings\n",
        "def clean(text):\n",
        "    rep = {\"<br>\": \"\\n\", \"<br/>\": \"\\n\", \"<li>\": \"\\n\"}\n",
        "    rep = dict((re.escape(k), v) for k, v in rep.items())\n",
        "    pattern = re.compile(\"|\".join(rep.keys()))\n",
        "    text = pattern.sub(lambda m: rep[re.escape(m.group(0))], text)\n",
        "    text = re.sub('<(.*?)>', '', text)\n",
        "    return text"
      ],
      "metadata": {
        "id": "6i0v1dmC0Br0"
      },
      "execution_count": 3,
      "outputs": []
    },
    {
      "cell_type": "code",
      "source": [
        "def collect_text(soup):\n",
        "    text = f'url: {url}\\n\\n'\n",
        "    para_text = soup.find_all('p')\n",
        "    print(f\"paragraphs text = \\n {para_text}\")\n",
        "    for para in para_text:\n",
        "        text += f\"{para.text}\\n\\n\"\n",
        "    return text"
      ],
      "metadata": {
        "id": "g1xQsJwq7YIW"
      },
      "execution_count": 4,
      "outputs": []
    },
    {
      "cell_type": "code",
      "source": [
        "# function to save file in the current directory\n",
        "def save_file(text):\n",
        "    if not os.path.exists('./scraped_articles'):\n",
        "        os.mkdir('./scraped_articles')\n",
        "    name = url.split(\"/\")[-1]\n",
        "    print(name)\n",
        "    fname = f'scraped_articles/{name}.txt'\n",
        "\n",
        "    # Code here - write a file using with (2 lines)\n",
        "    # Write the extracted text to a file\n",
        "    with open(fname, 'w', encoding='utf-8') as f:\n",
        "        f.write(text)\n",
        "\n",
        "    # Code ends here\n",
        "\n",
        "    print(f'File saved in directory {fname}')"
      ],
      "metadata": {
        "id": "ccSkAAO17cqq"
      },
      "execution_count": 5,
      "outputs": []
    },
    {
      "cell_type": "code",
      "source": [
        "if __name__ == '__main__':\n",
        "    text = collect_text(get_page())\n",
        "    save_file(text)\n",
        "    # Instructions to Run this python code\n",
        "    # Give url as https://medium.com/@subashgandyer/papa-what-is-a-neural-network-c5e5cc427c7"
      ],
      "metadata": {
        "colab": {
          "base_uri": "https://localhost:8080/",
          "height": 371
        },
        "collapsed": true,
        "id": "P1I7K0bN7eRO",
        "outputId": "0afd0735-d5fb-4cab-a4ab-868f21307caf"
      },
      "execution_count": 6,
      "outputs": [
        {
          "output_type": "error",
          "ename": "KeyboardInterrupt",
          "evalue": "Interrupted by user",
          "traceback": [
            "\u001b[0;31m---------------------------------------------------------------------------\u001b[0m",
            "\u001b[0;31mKeyboardInterrupt\u001b[0m                         Traceback (most recent call last)",
            "\u001b[0;32m<ipython-input-6-c8a30dfc324a>\u001b[0m in \u001b[0;36m<cell line: 1>\u001b[0;34m()\u001b[0m\n\u001b[1;32m      1\u001b[0m \u001b[0;32mif\u001b[0m \u001b[0m__name__\u001b[0m \u001b[0;34m==\u001b[0m \u001b[0;34m'__main__'\u001b[0m\u001b[0;34m:\u001b[0m\u001b[0;34m\u001b[0m\u001b[0;34m\u001b[0m\u001b[0m\n\u001b[0;32m----> 2\u001b[0;31m     \u001b[0mtext\u001b[0m \u001b[0;34m=\u001b[0m \u001b[0mcollect_text\u001b[0m\u001b[0;34m(\u001b[0m\u001b[0mget_page\u001b[0m\u001b[0;34m(\u001b[0m\u001b[0;34m)\u001b[0m\u001b[0;34m)\u001b[0m\u001b[0;34m\u001b[0m\u001b[0;34m\u001b[0m\u001b[0m\n\u001b[0m\u001b[1;32m      3\u001b[0m     \u001b[0msave_file\u001b[0m\u001b[0;34m(\u001b[0m\u001b[0mtext\u001b[0m\u001b[0;34m)\u001b[0m\u001b[0;34m\u001b[0m\u001b[0;34m\u001b[0m\u001b[0m\n\u001b[1;32m      4\u001b[0m     \u001b[0;31m# Instructions to Run this python code\u001b[0m\u001b[0;34m\u001b[0m\u001b[0;34m\u001b[0m\u001b[0m\n\u001b[1;32m      5\u001b[0m     \u001b[0;31m# Give url as https://medium.com/@subashgandyer/papa-what-is-a-neural-network-c5e5cc427c7\u001b[0m\u001b[0;34m\u001b[0m\u001b[0;34m\u001b[0m\u001b[0m\n",
            "\u001b[0;32m<ipython-input-2-dcd07addbb95>\u001b[0m in \u001b[0;36mget_page\u001b[0;34m()\u001b[0m\n\u001b[1;32m      4\u001b[0m \u001b[0;34m\u001b[0m\u001b[0m\n\u001b[1;32m      5\u001b[0m     \u001b[0;31m# Code here - Ask the user to input \"Enter url of a medium article: \" and collect it in url\u001b[0m\u001b[0;34m\u001b[0m\u001b[0;34m\u001b[0m\u001b[0m\n\u001b[0;32m----> 6\u001b[0;31m     \u001b[0murl\u001b[0m \u001b[0;34m=\u001b[0m \u001b[0minput\u001b[0m\u001b[0;34m(\u001b[0m\u001b[0;34m\"Enter url of a medium article: \"\u001b[0m\u001b[0;34m)\u001b[0m\u001b[0;34m\u001b[0m\u001b[0;34m\u001b[0m\u001b[0m\n\u001b[0m\u001b[1;32m      7\u001b[0m     \u001b[0;31m# Code ends here\u001b[0m\u001b[0;34m\u001b[0m\u001b[0;34m\u001b[0m\u001b[0m\n\u001b[1;32m      8\u001b[0m \u001b[0;34m\u001b[0m\u001b[0m\n",
            "\u001b[0;32m/usr/local/lib/python3.10/dist-packages/ipykernel/kernelbase.py\u001b[0m in \u001b[0;36mraw_input\u001b[0;34m(self, prompt)\u001b[0m\n\u001b[1;32m    849\u001b[0m                 \u001b[0;34m\"raw_input was called, but this frontend does not support input requests.\"\u001b[0m\u001b[0;34m\u001b[0m\u001b[0;34m\u001b[0m\u001b[0m\n\u001b[1;32m    850\u001b[0m             )\n\u001b[0;32m--> 851\u001b[0;31m         return self._input_request(str(prompt),\n\u001b[0m\u001b[1;32m    852\u001b[0m             \u001b[0mself\u001b[0m\u001b[0;34m.\u001b[0m\u001b[0m_parent_ident\u001b[0m\u001b[0;34m,\u001b[0m\u001b[0;34m\u001b[0m\u001b[0;34m\u001b[0m\u001b[0m\n\u001b[1;32m    853\u001b[0m             \u001b[0mself\u001b[0m\u001b[0;34m.\u001b[0m\u001b[0m_parent_header\u001b[0m\u001b[0;34m,\u001b[0m\u001b[0;34m\u001b[0m\u001b[0;34m\u001b[0m\u001b[0m\n",
            "\u001b[0;32m/usr/local/lib/python3.10/dist-packages/ipykernel/kernelbase.py\u001b[0m in \u001b[0;36m_input_request\u001b[0;34m(self, prompt, ident, parent, password)\u001b[0m\n\u001b[1;32m    893\u001b[0m             \u001b[0;32mexcept\u001b[0m \u001b[0mKeyboardInterrupt\u001b[0m\u001b[0;34m:\u001b[0m\u001b[0;34m\u001b[0m\u001b[0;34m\u001b[0m\u001b[0m\n\u001b[1;32m    894\u001b[0m                 \u001b[0;31m# re-raise KeyboardInterrupt, to truncate traceback\u001b[0m\u001b[0;34m\u001b[0m\u001b[0;34m\u001b[0m\u001b[0m\n\u001b[0;32m--> 895\u001b[0;31m                 \u001b[0;32mraise\u001b[0m \u001b[0mKeyboardInterrupt\u001b[0m\u001b[0;34m(\u001b[0m\u001b[0;34m\"Interrupted by user\"\u001b[0m\u001b[0;34m)\u001b[0m \u001b[0;32mfrom\u001b[0m \u001b[0;32mNone\u001b[0m\u001b[0;34m\u001b[0m\u001b[0;34m\u001b[0m\u001b[0m\n\u001b[0m\u001b[1;32m    896\u001b[0m             \u001b[0;32mexcept\u001b[0m \u001b[0mException\u001b[0m \u001b[0;32mas\u001b[0m \u001b[0me\u001b[0m\u001b[0;34m:\u001b[0m\u001b[0;34m\u001b[0m\u001b[0;34m\u001b[0m\u001b[0m\n\u001b[1;32m    897\u001b[0m                 \u001b[0mself\u001b[0m\u001b[0;34m.\u001b[0m\u001b[0mlog\u001b[0m\u001b[0;34m.\u001b[0m\u001b[0mwarning\u001b[0m\u001b[0;34m(\u001b[0m\u001b[0;34m\"Invalid Message:\"\u001b[0m\u001b[0;34m,\u001b[0m \u001b[0mexc_info\u001b[0m\u001b[0;34m=\u001b[0m\u001b[0;32mTrue\u001b[0m\u001b[0;34m)\u001b[0m\u001b[0;34m\u001b[0m\u001b[0;34m\u001b[0m\u001b[0m\n",
            "\u001b[0;31mKeyboardInterrupt\u001b[0m: Interrupted by user"
          ]
        }
      ]
    }
  ]
}